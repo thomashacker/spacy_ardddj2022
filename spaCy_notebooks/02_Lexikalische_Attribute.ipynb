{
 "cells": [
  {
   "cell_type": "markdown",
   "id": "feba8e75",
   "metadata": {},
   "source": [
    "## 02 Lexikalische Attribute\n",
    "Dieses Notebook behandelt die lexikalischen Attribute von Token und Doc Objekten. Einige Inhalte sind Ausschnitte vom kostenlosen [spaCy Online Kurs](https://course.spacy.io/de)."
   ]
  },
  {
   "cell_type": "code",
   "execution_count": 39,
   "id": "79096950",
   "metadata": {},
   "outputs": [],
   "source": [
    "# Modul um die Ergebnisse übersichtlich anzuzeigen\n",
    "from prettytable import PrettyTable"
   ]
  },
  {
   "cell_type": "markdown",
   "id": "8cb45a0b",
   "metadata": {},
   "source": [
    "### Was macht das nlp-Objekt?\n",
    "\n",
    "Zuerst wendet spaCy den Tokenizer an, um den Text-String in ein Doc-Objekt umzuwandeln. Danach werden verschiedene Pipeline-Komponenten der Reihe nach auf das Doc angewendet. Am Ende wird das verarbeitete Doc zurückgegeben, damit du mit ihm arbeiten kannst.\n",
    "\n",
    "Wird werden hierfür ein vor-trainiertes deutsches Sprachmodell verwenden, welches weitere Pipeline-Funktionen mitbringt die im Bereich NLP üblich sind."
   ]
  },
  {
   "cell_type": "code",
   "execution_count": 41,
   "id": "e3b5d540",
   "metadata": {},
   "outputs": [],
   "source": [
    "import spacy\n",
    "\n",
    "nlp = spacy.load(\"de_core_news_md\")\n",
    "\n",
    "text = \"Das Leben ist wie eine Schachtel Pralinen.\"\n",
    "doc = nlp(text)"
   ]
  },
  {
   "cell_type": "markdown",
   "id": "dff34ec0",
   "metadata": {},
   "source": [
    "## Part-of-Speech Tagger\n",
    "\n",
    "Der Part-of-Speech Tagger legt für jeden Token die Wortart fest. Die Wortart, so wie mit den anderen Pipelines, wird hier nur erahnt. Das Modell wurde, im Kontext der Sprache und Grammatik, so weitgehend trainiert damit es möglichst genau die richtige Aussage über ein Token treffen kann. Das Attribut hierfür ist \".pos_\" und \".tag\"\n",
    "\n",
    "[Part-of-Speech Documentation](https://spacy.io/usage/linguistic-features)"
   ]
  },
  {
   "cell_type": "code",
   "execution_count": 42,
   "id": "826a9040",
   "metadata": {
    "scrolled": false
   },
   "outputs": [
    {
     "name": "stdout",
     "output_type": "stream",
     "text": [
      "+-----------+-------+------------------+\n",
      "| Token     | Pos   | Detaillierte PoS |\n",
      "+-----------+-------+------------------+\n",
      "| Das       | DET   | ART              |\n",
      "| Leben     | NOUN  | NN               |\n",
      "| ist       | AUX   | VAFIN            |\n",
      "| wie       | ADP   | KOKOM            |\n",
      "| eine      | DET   | ART              |\n",
      "| Schachtel | NOUN  | NN               |\n",
      "| Pralinen  | NOUN  | NN               |\n",
      "| .         | PUNCT | $.               |\n",
      "+-----------+-------+------------------+\n"
     ]
    }
   ],
   "source": [
    "tabelle = PrettyTable(['Token', 'Pos', 'Detaillierte PoS'])\n",
    "tabelle.align = \"l\"\n",
    "\n",
    "for token in doc:\n",
    "    tabelle.add_row([token.text, token.pos_, token.tag_])\n",
    "\n",
    "print(tabelle)"
   ]
  },
  {
   "cell_type": "markdown",
   "id": "5ff63fba",
   "metadata": {},
   "source": [
    "## Dependency Parser\n",
    "\n",
    "Der Dependency Parser analysiert die grammatikalische Struktur des Text und stellt die Beziehungen her zwischen den einzelnen Tokens. Die Attribute hierfür sind \".dep\" und \".head\"\n",
    "\n",
    "[Dependy Parser Documentation](https://spacy.io/api/dependencyparser/#_title)"
   ]
  },
  {
   "cell_type": "code",
   "execution_count": 54,
   "id": "37949f57",
   "metadata": {},
   "outputs": [
    {
     "name": "stdout",
     "output_type": "stream",
     "text": [
      "+-----------+------------+-----------+\n",
      "| Token     | Dependency | Beziehung |\n",
      "+-----------+------------+-----------+\n",
      "| Das       | nk         | Leben     |\n",
      "| Leben     | sb         | ist       |\n",
      "| ist       | ROOT       | ist       |\n",
      "| wie       | cm         | Schachtel |\n",
      "| eine      | nk         | Schachtel |\n",
      "| Schachtel | mo         | ist       |\n",
      "| Pralinen  | nk         | Schachtel |\n",
      "| .         | punct      | ist       |\n",
      "+-----------+------------+-----------+\n"
     ]
    }
   ],
   "source": [
    "tabelle = PrettyTable(['Token', 'Dependency', \"Beziehung\"])\n",
    "tabelle.align = \"l\"\n",
    "\n",
    "for token in doc:\n",
    "    tabelle.add_row([token.text, token.dep_, token.head.text])\n",
    "\n",
    "print(tabelle)"
   ]
  },
  {
   "cell_type": "markdown",
   "id": "3dfa435e",
   "metadata": {},
   "source": [
    "## Named Entity Recognition\n",
    "\n",
    "Eine der meistgenutzten Komponenten in spaCy Pipelines ist der [Named Entity Recognizer](https://spacy.io/api/entityrecognizer). Dieser fokussiert sich darauf Eigennamen zu extrahieren wie Personen, Marken, Ortschaften, Länder etc. \n",
    "\n",
    "Die vortrainierten deutschen Modelle besitzen einen vortrainierten NER.\n",
    "\n",
    "\n",
    "Der Named Entity Recognizer fügt erkannte Entitäten ihren Tokens zu. Alle gefundenen Entitäten können über \"doc.ents\" abgerufen werden. Das Attribute am Token ist hier \".ent_type_\". Hierfür verwenden wir ein Beispiel welches Entitäten beinhaltet."
   ]
  },
  {
   "cell_type": "code",
   "execution_count": 95,
   "id": "c42a7ee3",
   "metadata": {},
   "outputs": [
    {
     "name": "stdout",
     "output_type": "stream",
     "text": [
      "+---------------+---------+\n",
      "| Token         | Entität |\n",
      "+---------------+---------+\n",
      "| Olaf          | PER     |\n",
      "| Scholz        | PER     |\n",
      "| ist           |         |\n",
      "| der           |         |\n",
      "| Bundeskanzler |         |\n",
      "| von           |         |\n",
      "| Deutschland   | LOC     |\n",
      "| .             | LOC     |\n",
      "+---------------+---------+\n"
     ]
    }
   ],
   "source": [
    "doc = nlp(\"Olaf Scholz ist der Bundeskanzler von Deutschland.\")\n",
    "\n",
    "tabelle = PrettyTable(['Token', 'Entität'])\n",
    "tabelle.align = \"l\"\n",
    "\n",
    "for token in doc:\n",
    "    tabelle.add_row([token.text, token.ent_type_])\n",
    "\n",
    "print(tabelle)"
   ]
  },
  {
   "cell_type": "markdown",
   "id": "e6f9fc1d",
   "metadata": {},
   "source": [
    "#\n",
    "Am Ende legt Text Classifier Kategorien fest, die auf den gesamten Text zutreffen, und fügt diese zur Property doc.cats hinzu.\n",
    "\n",
    "Da Text-Kategorien immer sehr spezifisch sind, ist der Text Classifier nicht standardmäßig Teil der verfügbaren trainierten Pipelines. Du kannst ihn jedoch verwenden, um deine eigenen Systeme zu trainieren."
   ]
  },
  {
   "cell_type": "markdown",
   "id": "2a979e47",
   "metadata": {},
   "source": [
    "## Visualisierung mit displaCy\n",
    "\n",
    "spaCy unterstützt eine Visualisierungsfunktion die es ermöglicht die lexikalischen Attribute mehrer Tokens zu überblicken."
   ]
  },
  {
   "cell_type": "code",
   "execution_count": 91,
   "id": "4dc4aa55",
   "metadata": {
    "scrolled": false
   },
   "outputs": [
    {
     "data": {
      "text/html": [
       "<span class=\"tex2jax_ignore\"><svg xmlns=\"http://www.w3.org/2000/svg\" xmlns:xlink=\"http://www.w3.org/1999/xlink\" xml:lang=\"de\" id=\"226976b370514296b3838029fd934f2b-0\" class=\"displacy\" width=\"1275\" height=\"312.0\" direction=\"ltr\" style=\"max-width: none; height: 312.0px; color: #000000; background: #ffffff; font-family: Arial; direction: ltr\">\n",
       "<text class=\"displacy-token\" fill=\"currentColor\" text-anchor=\"middle\" y=\"222.0\">\n",
       "    <tspan class=\"displacy-word\" fill=\"currentColor\" x=\"50\">Olaf</tspan>\n",
       "    <tspan class=\"displacy-tag\" dy=\"2em\" fill=\"currentColor\" x=\"50\">PROPN</tspan>\n",
       "</text>\n",
       "\n",
       "<text class=\"displacy-token\" fill=\"currentColor\" text-anchor=\"middle\" y=\"222.0\">\n",
       "    <tspan class=\"displacy-word\" fill=\"currentColor\" x=\"225\">Scholz</tspan>\n",
       "    <tspan class=\"displacy-tag\" dy=\"2em\" fill=\"currentColor\" x=\"225\">PROPN</tspan>\n",
       "</text>\n",
       "\n",
       "<text class=\"displacy-token\" fill=\"currentColor\" text-anchor=\"middle\" y=\"222.0\">\n",
       "    <tspan class=\"displacy-word\" fill=\"currentColor\" x=\"400\">ist</tspan>\n",
       "    <tspan class=\"displacy-tag\" dy=\"2em\" fill=\"currentColor\" x=\"400\">AUX</tspan>\n",
       "</text>\n",
       "\n",
       "<text class=\"displacy-token\" fill=\"currentColor\" text-anchor=\"middle\" y=\"222.0\">\n",
       "    <tspan class=\"displacy-word\" fill=\"currentColor\" x=\"575\">der</tspan>\n",
       "    <tspan class=\"displacy-tag\" dy=\"2em\" fill=\"currentColor\" x=\"575\">DET</tspan>\n",
       "</text>\n",
       "\n",
       "<text class=\"displacy-token\" fill=\"currentColor\" text-anchor=\"middle\" y=\"222.0\">\n",
       "    <tspan class=\"displacy-word\" fill=\"currentColor\" x=\"750\">Bundeskanzler</tspan>\n",
       "    <tspan class=\"displacy-tag\" dy=\"2em\" fill=\"currentColor\" x=\"750\">NOUN</tspan>\n",
       "</text>\n",
       "\n",
       "<text class=\"displacy-token\" fill=\"currentColor\" text-anchor=\"middle\" y=\"222.0\">\n",
       "    <tspan class=\"displacy-word\" fill=\"currentColor\" x=\"925\">von</tspan>\n",
       "    <tspan class=\"displacy-tag\" dy=\"2em\" fill=\"currentColor\" x=\"925\">ADP</tspan>\n",
       "</text>\n",
       "\n",
       "<text class=\"displacy-token\" fill=\"currentColor\" text-anchor=\"middle\" y=\"222.0\">\n",
       "    <tspan class=\"displacy-word\" fill=\"currentColor\" x=\"1100\">Deutschland</tspan>\n",
       "    <tspan class=\"displacy-tag\" dy=\"2em\" fill=\"currentColor\" x=\"1100\">PROPN</tspan>\n",
       "</text>\n",
       "\n",
       "<g class=\"displacy-arrow\">\n",
       "    <path class=\"displacy-arc\" id=\"arrow-226976b370514296b3838029fd934f2b-0-0\" stroke-width=\"2px\" d=\"M70,177.0 C70,89.5 220.0,89.5 220.0,177.0\" fill=\"none\" stroke=\"currentColor\"/>\n",
       "    <text dy=\"1.25em\" style=\"font-size: 0.8em; letter-spacing: 1px\">\n",
       "        <textPath xlink:href=\"#arrow-226976b370514296b3838029fd934f2b-0-0\" class=\"displacy-label\" startOffset=\"50%\" side=\"left\" fill=\"currentColor\" text-anchor=\"middle\">pnc</textPath>\n",
       "    </text>\n",
       "    <path class=\"displacy-arrowhead\" d=\"M70,179.0 L62,167.0 78,167.0\" fill=\"currentColor\"/>\n",
       "</g>\n",
       "\n",
       "<g class=\"displacy-arrow\">\n",
       "    <path class=\"displacy-arc\" id=\"arrow-226976b370514296b3838029fd934f2b-0-1\" stroke-width=\"2px\" d=\"M245,177.0 C245,89.5 395.0,89.5 395.0,177.0\" fill=\"none\" stroke=\"currentColor\"/>\n",
       "    <text dy=\"1.25em\" style=\"font-size: 0.8em; letter-spacing: 1px\">\n",
       "        <textPath xlink:href=\"#arrow-226976b370514296b3838029fd934f2b-0-1\" class=\"displacy-label\" startOffset=\"50%\" side=\"left\" fill=\"currentColor\" text-anchor=\"middle\">sb</textPath>\n",
       "    </text>\n",
       "    <path class=\"displacy-arrowhead\" d=\"M245,179.0 L237,167.0 253,167.0\" fill=\"currentColor\"/>\n",
       "</g>\n",
       "\n",
       "<g class=\"displacy-arrow\">\n",
       "    <path class=\"displacy-arc\" id=\"arrow-226976b370514296b3838029fd934f2b-0-2\" stroke-width=\"2px\" d=\"M595,177.0 C595,89.5 745.0,89.5 745.0,177.0\" fill=\"none\" stroke=\"currentColor\"/>\n",
       "    <text dy=\"1.25em\" style=\"font-size: 0.8em; letter-spacing: 1px\">\n",
       "        <textPath xlink:href=\"#arrow-226976b370514296b3838029fd934f2b-0-2\" class=\"displacy-label\" startOffset=\"50%\" side=\"left\" fill=\"currentColor\" text-anchor=\"middle\">nk</textPath>\n",
       "    </text>\n",
       "    <path class=\"displacy-arrowhead\" d=\"M595,179.0 L587,167.0 603,167.0\" fill=\"currentColor\"/>\n",
       "</g>\n",
       "\n",
       "<g class=\"displacy-arrow\">\n",
       "    <path class=\"displacy-arc\" id=\"arrow-226976b370514296b3838029fd934f2b-0-3\" stroke-width=\"2px\" d=\"M420,177.0 C420,2.0 750.0,2.0 750.0,177.0\" fill=\"none\" stroke=\"currentColor\"/>\n",
       "    <text dy=\"1.25em\" style=\"font-size: 0.8em; letter-spacing: 1px\">\n",
       "        <textPath xlink:href=\"#arrow-226976b370514296b3838029fd934f2b-0-3\" class=\"displacy-label\" startOffset=\"50%\" side=\"left\" fill=\"currentColor\" text-anchor=\"middle\">pd</textPath>\n",
       "    </text>\n",
       "    <path class=\"displacy-arrowhead\" d=\"M750.0,179.0 L758.0,167.0 742.0,167.0\" fill=\"currentColor\"/>\n",
       "</g>\n",
       "\n",
       "<g class=\"displacy-arrow\">\n",
       "    <path class=\"displacy-arc\" id=\"arrow-226976b370514296b3838029fd934f2b-0-4\" stroke-width=\"2px\" d=\"M770,177.0 C770,89.5 920.0,89.5 920.0,177.0\" fill=\"none\" stroke=\"currentColor\"/>\n",
       "    <text dy=\"1.25em\" style=\"font-size: 0.8em; letter-spacing: 1px\">\n",
       "        <textPath xlink:href=\"#arrow-226976b370514296b3838029fd934f2b-0-4\" class=\"displacy-label\" startOffset=\"50%\" side=\"left\" fill=\"currentColor\" text-anchor=\"middle\">pg</textPath>\n",
       "    </text>\n",
       "    <path class=\"displacy-arrowhead\" d=\"M920.0,179.0 L928.0,167.0 912.0,167.0\" fill=\"currentColor\"/>\n",
       "</g>\n",
       "\n",
       "<g class=\"displacy-arrow\">\n",
       "    <path class=\"displacy-arc\" id=\"arrow-226976b370514296b3838029fd934f2b-0-5\" stroke-width=\"2px\" d=\"M945,177.0 C945,89.5 1095.0,89.5 1095.0,177.0\" fill=\"none\" stroke=\"currentColor\"/>\n",
       "    <text dy=\"1.25em\" style=\"font-size: 0.8em; letter-spacing: 1px\">\n",
       "        <textPath xlink:href=\"#arrow-226976b370514296b3838029fd934f2b-0-5\" class=\"displacy-label\" startOffset=\"50%\" side=\"left\" fill=\"currentColor\" text-anchor=\"middle\">nk</textPath>\n",
       "    </text>\n",
       "    <path class=\"displacy-arrowhead\" d=\"M1095.0,179.0 L1103.0,167.0 1087.0,167.0\" fill=\"currentColor\"/>\n",
       "</g>\n",
       "</svg></span>"
      ],
      "text/plain": [
       "<IPython.core.display.HTML object>"
      ]
     },
     "metadata": {},
     "output_type": "display_data"
    }
   ],
   "source": [
    "from spacy import displacy\n",
    "\n",
    "# Der Parameter style definiert die Art der Visualisierung, in diesem Fall nutzen wir die Visualisierung\n",
    "# für den Dependency Parser\n",
    "displacy.render(doc, style=\"dep\")"
   ]
  },
  {
   "cell_type": "markdown",
   "id": "e724ffcd",
   "metadata": {},
   "source": [
    "## Named Entity Recognition\n",
    "Eine der meistgenutzten Komponenten in spaCy Pipelines ist der [Named Entity Recognizer](https://spacy.io/api/entityrecognizer). Dieser fokussiert sich darauf Eigennamen zu extrahieren wie Personen, Marken, Ortschaften, Länder etc. \n",
    "\n",
    "Die vortrainierten deutschen Modelle besitzen einen vortrainierten NER."
   ]
  },
  {
   "cell_type": "markdown",
   "id": "dc5670e6",
   "metadata": {},
   "source": [
    "## NER Visualisierung in displacy\n",
    "Displacy unterstützt auch die Funktion Entitäten im Text zu visualisieren."
   ]
  },
  {
   "cell_type": "code",
   "execution_count": 99,
   "id": "12e9972b",
   "metadata": {},
   "outputs": [
    {
     "data": {
      "text/html": [
       "<span class=\"tex2jax_ignore\"><div class=\"entities\" style=\"line-height: 2.5; direction: ltr\">\n",
       "<mark class=\"entity\" style=\"background: #ddd; padding: 0.45em 0.6em; margin: 0 0.25em; line-height: 1; border-radius: 0.35em;\">\n",
       "    Olaf Scholz\n",
       "    <span style=\"font-size: 0.8em; font-weight: bold; line-height: 1; border-radius: 0.35em; vertical-align: middle; margin-left: 0.5rem\">PER</span>\n",
       "</mark>\n",
       " ist der Bundeskanzler von \n",
       "<mark class=\"entity\" style=\"background: #ff9561; padding: 0.45em 0.6em; margin: 0 0.25em; line-height: 1; border-radius: 0.35em;\">\n",
       "    Deutschland.\n",
       "    <span style=\"font-size: 0.8em; font-weight: bold; line-height: 1; border-radius: 0.35em; vertical-align: middle; margin-left: 0.5rem\">LOC</span>\n",
       "</mark>\n",
       "</div></span>"
      ],
      "text/plain": [
       "<IPython.core.display.HTML object>"
      ]
     },
     "metadata": {},
     "output_type": "display_data"
    }
   ],
   "source": [
    "displacy.render(doc, style=\"ent\")"
   ]
  },
  {
   "cell_type": "code",
   "execution_count": null,
   "id": "4e293a21",
   "metadata": {},
   "outputs": [],
   "source": []
  }
 ],
 "metadata": {
  "kernelspec": {
   "display_name": "Python 3 (ipykernel)",
   "language": "python",
   "name": "python3"
  },
  "language_info": {
   "codemirror_mode": {
    "name": "ipython",
    "version": 3
   },
   "file_extension": ".py",
   "mimetype": "text/x-python",
   "name": "python",
   "nbconvert_exporter": "python",
   "pygments_lexer": "ipython3",
   "version": "3.8.0"
  }
 },
 "nbformat": 4,
 "nbformat_minor": 5
}
