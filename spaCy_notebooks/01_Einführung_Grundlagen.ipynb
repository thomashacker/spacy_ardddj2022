{
 "cells": [
  {
   "cell_type": "markdown",
   "id": "72238106",
   "metadata": {},
   "source": [
    "## 01 Einführung der Grundlagen von spaCy\n",
    "In diesem Notebook werden die Grundkonzepte von spaCy erklärt. Einige Inhalte sind Ausschnitte vom kostenlosen [spaCy Online Kurs](https://course.spacy.io/de)."
   ]
  },
  {
   "cell_type": "code",
   "execution_count": 5,
   "id": "d715ded8",
   "metadata": {},
   "outputs": [],
   "source": [
    "# Hilfsfunktion für die Ausgabe der Ergebnisse\n",
    "def ausgabe(nlp_objekt):\n",
    "    print(f\"Text: `{nlp_objekt}` Typ: {type(nlp_objekt)}\")"
   ]
  },
  {
   "cell_type": "markdown",
   "id": "b82dd22c",
   "metadata": {},
   "source": [
    "## Das NLP-Objekt\n",
    "\n",
    "Im Zentrum von spaCy steht das Objekt, das die Verarbeitungspipeline enthält. Wir nennen dieses Objekt typischerweise \"nlp\".\n",
    "\n",
    "Um beispielsweise ein deutschsprachiges nlp-Objekt zu erstellen, kannst du spacy importieren und die Methode spacy.blank mit dem parameter \"de\" nutzen. Die \"blank\" Pipeline beinhaltet nur die Grundstruktur, welches wir im folgenden genauer betrachten werden. Es können aber auch vor-trainierte deutsche Modelle geladen werden, die mit mehr funktionalität bestückt sind. Die vortrainierten Modelle werden im zweiten Teil vorgeführt.\n",
    "\n",
    "[Mehr in den spaCy Docs](https://spacy.io/api/language)"
   ]
  },
  {
   "cell_type": "code",
   "execution_count": 6,
   "id": "0bdef40e",
   "metadata": {},
   "outputs": [],
   "source": [
    "# Importiere spaCy\n",
    "import spacy\n",
    "\n",
    "# Erstelle ein leeres deutsches nlp-Objekt\n",
    "nlp = spacy.blank(\"de\")"
   ]
  },
  {
   "cell_type": "markdown",
   "id": "3e577cf4",
   "metadata": {},
   "source": [
    "## Wesentlicher Aufbau"
   ]
  },
  {
   "cell_type": "markdown",
   "id": "c63fddf3",
   "metadata": {},
   "source": [
    "Im folgenden wird der wesentliche Aufbau erklärt, womit das NLP-Objekt die texte instanziiert."
   ]
  },
  {
   "cell_type": "markdown",
   "id": "701f6126",
   "metadata": {},
   "source": [
    "## Das Doc-Objekt\n",
    "\n",
    "\n",
    "Wenn du einen Text mit dem nlp-Objekt instanziiert, erstellt spaCy ein Doc-Objekt, kurz für \"document\". Das Doc-Objekt ist wie eine Kapselung um den Text, welches es mit weiteren Attributen und Funktionen von spaCy anreichert, ohne das dabei Informationen verloren gehen.\n",
    "\n",
    "[Mehr in den spaCy Docs](https://spacy.io/api/doc)"
   ]
  },
  {
   "cell_type": "code",
   "execution_count": 7,
   "id": "465752ac",
   "metadata": {},
   "outputs": [
    {
     "name": "stdout",
     "output_type": "stream",
     "text": [
      "Text: `Hallo Welt!` Typ: <class 'str'>\n",
      "Text: `Hallo Welt!` Typ: <class 'spacy.tokens.doc.Doc'>\n"
     ]
    }
   ],
   "source": [
    "# Erstellt durch Verarbeitung eines Strings mit dem nlp-Objekt\n",
    "text = \"Hallo Welt!\"\n",
    "doc = nlp(\"Hallo Welt!\")\n",
    "\n",
    "ausgabe(text)\n",
    "ausgabe(doc)"
   ]
  },
  {
   "cell_type": "markdown",
   "id": "650523f4",
   "metadata": {},
   "source": [
    "## Das Token-Objekt\n",
    "\n",
    "Das Doc-Objekt verhält sich wie ein Container, welches die einzelnen Tokens als eine Sequenz speichert. Über die Sequenz kann iteriert und indexiert werden, um über alle Tokens oder einem bestimmten Token zugreifen zu können.\n",
    "\n",
    "Token-Objekte repräsentieren die Tokens in einem Dokument – zum Beispiel ein Wort oder ein Satzzeichen.\n",
    "\n",
    "[Mehr in den spaCy Docs](https://spacy.io/api/token)"
   ]
  },
  {
   "cell_type": "code",
   "execution_count": 8,
   "id": "ea35ecfb",
   "metadata": {},
   "outputs": [
    {
     "name": "stdout",
     "output_type": "stream",
     "text": [
      "Text: `Welt` Typ: <class 'spacy.tokens.token.Token'>\n",
      "- - -\n",
      "Text: `Hallo` Typ: <class 'spacy.tokens.token.Token'>\n",
      "Text: `Welt` Typ: <class 'spacy.tokens.token.Token'>\n",
      "Text: `!` Typ: <class 'spacy.tokens.token.Token'>\n"
     ]
    }
   ],
   "source": [
    "# Greife auf einen Token über seinen Index im Doc zu\n",
    "token = doc[1]\n",
    "ausgabe(token)\n",
    "\n",
    "print('- - -')\n",
    "\n",
    "# Iteriere über jeden Token in dem Doc-Object\n",
    "for token in doc:\n",
    "    ausgabe(token)"
   ]
  },
  {
   "cell_type": "markdown",
   "id": "07e23b57",
   "metadata": {},
   "source": [
    "## Das Span-Objekt\n",
    "\n",
    "Ein Span-Objekt, das aus einem oder mehreren Tokens besteht, ist ein Abschnitt des Dokuments. Es ist lediglich eine Ansicht des Doc-Objekts und enthält selbst keine Daten.\n",
    "\n",
    "Um eine Span zu erstellen, kannst du Pythons Slice-Notation verwenden. 1:3 zum Beispiel erstellt eine Span ab dem Token an Position 1, bis zu – aber nicht einschließlich! - dem Token an Position 3.\n",
    "\n",
    "[Mehr in den spaCy Docs](https://spacy.io/api/span)"
   ]
  },
  {
   "cell_type": "code",
   "execution_count": 9,
   "id": "b61e5399",
   "metadata": {},
   "outputs": [
    {
     "name": "stdout",
     "output_type": "stream",
     "text": [
      "Text: `Welt!` Typ: <class 'spacy.tokens.span.Span'>\n"
     ]
    }
   ],
   "source": [
    "# Ein Abschnitt des Doc-Objekts ist ein Span-Objekt\n",
    "span = doc[1:3]\n",
    "\n",
    "ausgabe(span)"
   ]
  }
 ],
 "metadata": {
  "kernelspec": {
   "display_name": "Python 3 (ipykernel)",
   "language": "python",
   "name": "python3"
  },
  "language_info": {
   "codemirror_mode": {
    "name": "ipython",
    "version": 3
   },
   "file_extension": ".py",
   "mimetype": "text/x-python",
   "name": "python",
   "nbconvert_exporter": "python",
   "pygments_lexer": "ipython3",
   "version": "3.9.2"
  }
 },
 "nbformat": 4,
 "nbformat_minor": 5
}
